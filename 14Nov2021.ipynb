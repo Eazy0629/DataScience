{
 "cells": [
  {
   "cell_type": "code",
   "execution_count": 1,
   "metadata": {},
   "outputs": [
    {
     "name": "stdout",
     "output_type": "stream",
     "text": [
      "Welcome to ATM\n",
      "Enter your PIN : 1234\n",
      "Enter your PIN again  :1234\n",
      "Proceed: Enter number from 1 to 4\n",
      "enter number : 3\n",
      "Enter the amount to withdraw : 10000\n",
      "Insufficient balance 1000\n",
      "Total Saving amount is : 1000\n",
      " Invalid Input , Thank You\n"
     ]
    }
   ],
   "source": [
    "sa1= 1000\n",
    "cb1=500\n",
    "print(\"Welcome to ATM\")\n",
    "a1= int(input(\"Enter your PIN : \"))\n",
    "a4= int(input(\"Enter your PIN again  :\"))\n",
    "if(a1==1234) and (a4==1234):\n",
    "        print(\"Proceed: Enter number from 1 to 4\")\n",
    "        a2=int(input(\"enter number : \"))\n",
    "        if(a2==1):\n",
    "            print(\"Your saving balance is : \",sa1)\n",
    "            break\n",
    "        if(a2==2):\n",
    "            d1=int(input(\"Enter the deposit amount : \"))\n",
    "            sa1= sa1+d1;\n",
    "            print(\"Total Saving amount is :\",sa1)\n",
    "        if(a2==3):\n",
    "            w1=int(input(\"Enter the amount to withdraw : \"))\n",
    "            if(sa1<w1):\n",
    "                print(\"Insufficient balance\",sa1)\n",
    "            else:    \n",
    "                sa1= sa1-w1;\n",
    "            print(\"Total Saving amount is :\",sa1)\n",
    "        if(a2==4):\n",
    "                print(\" Transferring fund from checking balance : \",cb1)\n",
    "                cb2=int(input(\"enter the amount you want to transfer : \"))\n",
    "                if(cb2>cb1):\n",
    "                    print(\"Insufficient checking balance\",cb1)\n",
    "                else: \n",
    "                    sa1= sa1+cb2;\n",
    "                    cb1= cb1-cb2;\n",
    "                    print(\"Total Saving amount is :\",sa1)\n",
    "                    print(\"Total checking balance is : \",cb1)\n",
    "        else:\n",
    "                print(\" Invalid Input , Thank You\")\n",
    "                exit()\n",
    "else:\n",
    "        print(\"Incorrect PIN\")\n",
    "        exit()\n",
    "    "
   ]
  },
  {
   "cell_type": "code",
   "execution_count": 4,
   "metadata": {},
   "outputs": [],
   "source": [
    "def calculateSB(sb1,sb):\n",
    "    sb=sb-sb1;\n",
    "    print(\"Saving Balance is :\",sb)\n",
    "    \n",
    "    "
   ]
  },
  {
   "cell_type": "code",
   "execution_count": 17,
   "metadata": {},
   "outputs": [
    {
     "name": "stdout",
     "output_type": "stream",
     "text": [
      "Saving Balance is : 900\n"
     ]
    }
   ],
   "source": [
    "calculateSB(100,1000)\n",
    "\n"
   ]
  },
  {
   "cell_type": "code",
   "execution_count": 13,
   "metadata": {},
   "outputs": [
    {
     "ename": "IndentationError",
     "evalue": "unindent does not match any outer indentation level (<tokenize>, line 3)",
     "output_type": "error",
     "traceback": [
      "\u001b[1;36m  File \u001b[1;32m\"<tokenize>\"\u001b[1;36m, line \u001b[1;32m3\u001b[0m\n\u001b[1;33m    while(a1>0):\u001b[0m\n\u001b[1;37m    ^\u001b[0m\n\u001b[1;31mIndentationError\u001b[0m\u001b[1;31m:\u001b[0m unindent does not match any outer indentation level\n"
     ]
    }
   ],
   "source": [
    "def  fact1(a1):\n",
    "      fact2=1\n",
    "    while(a1>0):\n",
    "        fact2=fact2*a1\n",
    "        a1=a1-1\n",
    "    return fact"
   ]
  },
  {
   "cell_type": "code",
   "execution_count": null,
   "metadata": {},
   "outputs": [],
   "source": []
  },
  {
   "cell_type": "code",
   "execution_count": null,
   "metadata": {},
   "outputs": [],
   "source": []
  },
  {
   "cell_type": "code",
   "execution_count": 16,
   "metadata": {},
   "outputs": [
    {
     "ename": "NameError",
     "evalue": "name 'fact1' is not defined",
     "output_type": "error",
     "traceback": [
      "\u001b[1;31m---------------------------------------------------------------------------\u001b[0m",
      "\u001b[1;31mNameError\u001b[0m                                 Traceback (most recent call last)",
      "\u001b[1;32m<ipython-input-16-00cf8140419b>\u001b[0m in \u001b[0;36m<module>\u001b[1;34m\u001b[0m\n\u001b[1;32m----> 1\u001b[1;33m \u001b[0mfact1\u001b[0m\u001b[1;33m(\u001b[0m\u001b[1;36m5\u001b[0m\u001b[1;33m)\u001b[0m\u001b[1;33m\u001b[0m\u001b[1;33m\u001b[0m\u001b[0m\n\u001b[0m",
      "\u001b[1;31mNameError\u001b[0m: name 'fact1' is not defined"
     ]
    }
   ],
   "source": [
    "def fact1(5):"
   ]
  },
  {
   "cell_type": "code",
   "execution_count": null,
   "metadata": {},
   "outputs": [],
   "source": []
  },
  {
   "cell_type": "code",
   "execution_count": null,
   "metadata": {},
   "outputs": [],
   "source": []
  },
  {
   "cell_type": "code",
   "execution_count": null,
   "metadata": {},
   "outputs": [],
   "source": []
  },
  {
   "cell_type": "code",
   "execution_count": null,
   "metadata": {},
   "outputs": [],
   "source": []
  },
  {
   "cell_type": "code",
   "execution_count": null,
   "metadata": {},
   "outputs": [],
   "source": []
  },
  {
   "cell_type": "code",
   "execution_count": null,
   "metadata": {},
   "outputs": [],
   "source": []
  }
 ],
 "metadata": {
  "kernelspec": {
   "display_name": "Python 3",
   "language": "python",
   "name": "python3"
  },
  "language_info": {
   "codemirror_mode": {
    "name": "ipython",
    "version": 3
   },
   "file_extension": ".py",
   "mimetype": "text/x-python",
   "name": "python",
   "nbconvert_exporter": "python",
   "pygments_lexer": "ipython3",
   "version": "3.8.5"
  }
 },
 "nbformat": 4,
 "nbformat_minor": 4
}
