{
 "cells": [
  {
   "cell_type": "code",
   "execution_count": null,
   "metadata": {},
   "outputs": [],
   "source": [
    "sa1= 1000\n",
    "cb1=500\n",
    "print(\"Welcome to ATM\")\n",
    "a1= int(input(\"Enter your PIN : \"))\n",
    "a4= int(input(\"Enter your PIN again  :\"))\n",
    "if(a1==1234) and (a4==1234):\n",
    "        print(\"Proceed: Enter number from 1 to 4\")\n",
    "        a2=int(input(\"enter number : \"))\n",
    "        if(a2==1):\n",
    "            print(\"Your saving balance is : \",sa1)\n",
    "        if(a2==2):\n",
    "            d1=int(input(\"Enter the deposit amount : \"))\n",
    "            sa1= sa1+d1;\n",
    "            print(\"Total Saving amount is :\",sa1)\n",
    "        if(a2==3):\n",
    "            w1=int(input(\"Enter the amount to withdraw : \"))\n",
    "            if(sa1<w1):\n",
    "                print(\"Insufficient balance\",sa1)\n",
    "            else:    \n",
    "                sa1= sa1-w1;\n",
    "            print(\"Total Saving amount is :\",sa1)\n",
    "        if(a2==4):\n",
    "                print(\" Transferring fund from checking balance : \",cb1)\n",
    "                cb2=int(input(\"enter the amount you want to transfer : \"))\n",
    "                if(cb2>cb1):\n",
    "                    print(\"Insufficient checking balance\",cb1)\n",
    "                else: \n",
    "                    sa1= sa1+cb2;\n",
    "                    cb1= cb1-cb2;\n",
    "                    print(\"Total Saving amount is :\",sa1)\n",
    "                    print(\"Total checking balance is : \",cb1)\n",
    "        else:\n",
    "                print(\" Invalid Input , Thank You\")\n",
    "                exit()\n",
    "else:\n",
    "        print(\"Incorrect PIN\")\n",
    "        exit()\n",
    "    "
   ]
  },
  {
   "cell_type": "code",
   "execution_count": null,
   "metadata": {},
   "outputs": [],
   "source": [
    "sa1= 1000\n",
    "cb1=500\n",
    "print(\"Welcome to ATM\")\n",
    "a1= int(input(\"Enter your PIN : \"))\n",
    "a4= int(input(\"Enter your PIN again  :\"))\n",
    "if(a1==1234) and (a4==1234):\n",
    "        print(\"Proceed: Enter number from 1 to 4\")\n",
    "        a2=int(input(\"enter number : \"))\n",
    "        if(a2==1):\n",
    "            print(\"Your saving balance is : \",sa1)\n",
    "        if(a2==2):\n",
    "            d1=int(input(\"Enter the deposit amount : \"))\n",
    "            sa1= sa1+d1;\n",
    "            print(\"Total Saving amount is :\",sa1)\n",
    "        if(a2==3):\n",
    "            w1=int(input(\"Enter the amount to withdraw : \"))\n",
    "            if(sa1<w1):\n",
    "                print(\"Insufficient balance\",sa1)\n",
    "            else:    \n",
    "                sa1= sa1-w1;\n",
    "            print(\"Total Saving amount is :\",sa1)\n",
    "        if(a2==4):\n",
    "                print(\" Transferring fund from checking balance : \",cb1)\n",
    "                cb2=int(input(\"enter the amount you want to transfer : \"))\n",
    "                if(cb2>cb1):\n",
    "                    print(\"Insufficient checking balance\",cb1)\n",
    "                else: \n",
    "                    sa1= sa1+cb2;\n",
    "                    cb1= cb1-cb2;\n",
    "                    print(\"Total Saving amount is :\",sa1)\n",
    "                    print(\"Total checking balance is : \",cb1)\n",
    "        else:\n",
    "                print(\" Invalid Input , Thank You\")\n",
    "                exit()\n",
    "else:\n",
    "        print(\"Incorrect PIN\")\n",
    "        exit()\n",
    "    "
   ]
  },
  {
   "cell_type": "code",
   "execution_count": 13,
   "metadata": {},
   "outputs": [
    {
     "data": {
      "text/plain": [
       "1234"
      ]
     },
     "execution_count": 13,
     "metadata": {},
     "output_type": "execute_result"
    }
   ],
   "source": [
    "\n"
   ]
  },
  {
   "cell_type": "code",
   "execution_count": null,
   "metadata": {},
   "outputs": [],
   "source": []
  },
  {
   "cell_type": "code",
   "execution_count": null,
   "metadata": {},
   "outputs": [],
   "source": []
  },
  {
   "cell_type": "code",
   "execution_count": null,
   "metadata": {},
   "outputs": [],
   "source": []
  },
  {
   "cell_type": "code",
   "execution_count": null,
   "metadata": {},
   "outputs": [],
   "source": []
  },
  {
   "cell_type": "code",
   "execution_count": null,
   "metadata": {},
   "outputs": [],
   "source": []
  },
  {
   "cell_type": "code",
   "execution_count": null,
   "metadata": {},
   "outputs": [],
   "source": []
  },
  {
   "cell_type": "code",
   "execution_count": null,
   "metadata": {},
   "outputs": [],
   "source": []
  },
  {
   "cell_type": "code",
   "execution_count": null,
   "metadata": {},
   "outputs": [],
   "source": []
  }
 ],
 "metadata": {
  "kernelspec": {
   "display_name": "Python 3",
   "language": "python",
   "name": "python3"
  },
  "language_info": {
   "codemirror_mode": {
    "name": "ipython",
    "version": 3
   },
   "file_extension": ".py",
   "mimetype": "text/x-python",
   "name": "python",
   "nbconvert_exporter": "python",
   "pygments_lexer": "ipython3",
   "version": "3.8.5"
  }
 },
 "nbformat": 4,
 "nbformat_minor": 4
}
